{
 "cells": [
  {
   "cell_type": "code",
   "execution_count": null,
   "metadata": {},
   "outputs": [
    {
     "data": {
      "application/vnd.microsoft.datawrangler.viewer.v0+json": {
       "columns": [
        {
         "name": "index",
         "rawType": "int64",
         "type": "integer"
        },
        {
         "name": "x",
         "rawType": "float64",
         "type": "float"
        },
        {
         "name": "y",
         "rawType": "float64",
         "type": "float"
        },
        {
         "name": "z",
         "rawType": "float64",
         "type": "float"
        },
        {
         "name": "x_final",
         "rawType": "float64",
         "type": "float"
        },
        {
         "name": "y_final",
         "rawType": "float64",
         "type": "float"
        },
        {
         "name": "z_final",
         "rawType": "float64",
         "type": "float"
        },
        {
         "name": "axis0",
         "rawType": "float64",
         "type": "float"
        },
        {
         "name": "axis1",
         "rawType": "float64",
         "type": "float"
        },
        {
         "name": "axis2",
         "rawType": "float64",
         "type": "float"
        },
        {
         "name": "axis3",
         "rawType": "float64",
         "type": "float"
        },
        {
         "name": "axis0_final",
         "rawType": "float64",
         "type": "float"
        },
        {
         "name": "axis1_final",
         "rawType": "float64",
         "type": "float"
        },
        {
         "name": "axis2_final",
         "rawType": "float64",
         "type": "float"
        },
        {
         "name": "axis3_final",
         "rawType": "float64",
         "type": "float"
        }
       ],
       "conversionMethod": "pd.DataFrame",
       "ref": "0ac00bb9-848a-4b99-b25a-b98c41ccdd47",
       "rows": [
        [
         "0",
         "0.2783132573835837",
         "0.19788566282162934",
         "0.8515782874921258",
         "0.9697257230546259",
         "0.5062436136157844",
         "0.6440331812048639",
         "0.5020761254794671",
         "0.5500903039062935",
         "1.0",
         "0.19451549561144604",
         "0.5020761254794671",
         "0.5500903039062935",
         "1.0",
         "0.19451549561144604"
        ],
        [
         "1",
         "0.9441983162581369",
         "0.5597379020349746",
         "0.11076231847646711",
         "0.024288998870049316",
         "0.1672457410140285",
         "0.634488128474844",
         "0.09689630454182513",
         "0.5369485799996833",
         "1.0",
         "0.20547209533002986",
         "0.09689630454182513",
         "0.5369485799996833",
         "1.0",
         "0.20547209533002986"
        ],
        [
         "2",
         "0.2973015959389904",
         "0.10214815239862624",
         "0.7373563517564448",
         "0.23019544287900695",
         "0.9103139774542013",
         "0.6466459587808743",
         "0.8425625541132118",
         "0.5485917647052698",
         "1.0",
         "0.1957648670261023",
         "0.8425625541132118",
         "0.5485917647052698",
         "1.0",
         "0.1957648670261023"
        ],
        [
         "3",
         "0.06074309652541876",
         "0.8924252224075371",
         "0.9275359360459583",
         "0.025040289901821555",
         "0.9583266683322292",
         "0.16507992389821918",
         "0.8778349170002069",
         "0.4144092499673484",
         "1.0",
         "0.307636347028576",
         "0.8778349170002069",
         "0.4144092499673484",
         "1.0",
         "0.307636347028576"
        ],
        [
         "4",
         "0.4022693545336381",
         "0.17732744497227654",
         "0.12978324290733922",
         "0.7179053154095758",
         "0.9671221987913687",
         "0.9024329077348787",
         "0.6805511509275078",
         "0.6141720131578808",
         "1.0",
         "0.14108889476807057",
         "0.6805511509275078",
         "0.6141720131578808",
         "1.0",
         "0.14108889476807057"
        ]
       ],
       "shape": {
        "columns": 14,
        "rows": 5
       }
      },
      "text/html": [
       "<div>\n",
       "<style scoped>\n",
       "    .dataframe tbody tr th:only-of-type {\n",
       "        vertical-align: middle;\n",
       "    }\n",
       "\n",
       "    .dataframe tbody tr th {\n",
       "        vertical-align: top;\n",
       "    }\n",
       "\n",
       "    .dataframe thead th {\n",
       "        text-align: right;\n",
       "    }\n",
       "</style>\n",
       "<table border=\"1\" class=\"dataframe\">\n",
       "  <thead>\n",
       "    <tr style=\"text-align: right;\">\n",
       "      <th></th>\n",
       "      <th>x</th>\n",
       "      <th>y</th>\n",
       "      <th>z</th>\n",
       "      <th>x_final</th>\n",
       "      <th>y_final</th>\n",
       "      <th>z_final</th>\n",
       "      <th>axis0</th>\n",
       "      <th>axis1</th>\n",
       "      <th>axis2</th>\n",
       "      <th>axis3</th>\n",
       "      <th>axis0_final</th>\n",
       "      <th>axis1_final</th>\n",
       "      <th>axis2_final</th>\n",
       "      <th>axis3_final</th>\n",
       "    </tr>\n",
       "  </thead>\n",
       "  <tbody>\n",
       "    <tr>\n",
       "      <th>0</th>\n",
       "      <td>0.278313</td>\n",
       "      <td>0.197886</td>\n",
       "      <td>0.851578</td>\n",
       "      <td>0.969726</td>\n",
       "      <td>0.506244</td>\n",
       "      <td>0.644033</td>\n",
       "      <td>0.502076</td>\n",
       "      <td>0.550090</td>\n",
       "      <td>1.0</td>\n",
       "      <td>0.194515</td>\n",
       "      <td>0.502076</td>\n",
       "      <td>0.550090</td>\n",
       "      <td>1.0</td>\n",
       "      <td>0.194515</td>\n",
       "    </tr>\n",
       "    <tr>\n",
       "      <th>1</th>\n",
       "      <td>0.944198</td>\n",
       "      <td>0.559738</td>\n",
       "      <td>0.110762</td>\n",
       "      <td>0.024289</td>\n",
       "      <td>0.167246</td>\n",
       "      <td>0.634488</td>\n",
       "      <td>0.096896</td>\n",
       "      <td>0.536949</td>\n",
       "      <td>1.0</td>\n",
       "      <td>0.205472</td>\n",
       "      <td>0.096896</td>\n",
       "      <td>0.536949</td>\n",
       "      <td>1.0</td>\n",
       "      <td>0.205472</td>\n",
       "    </tr>\n",
       "    <tr>\n",
       "      <th>2</th>\n",
       "      <td>0.297302</td>\n",
       "      <td>0.102148</td>\n",
       "      <td>0.737356</td>\n",
       "      <td>0.230195</td>\n",
       "      <td>0.910314</td>\n",
       "      <td>0.646646</td>\n",
       "      <td>0.842563</td>\n",
       "      <td>0.548592</td>\n",
       "      <td>1.0</td>\n",
       "      <td>0.195765</td>\n",
       "      <td>0.842563</td>\n",
       "      <td>0.548592</td>\n",
       "      <td>1.0</td>\n",
       "      <td>0.195765</td>\n",
       "    </tr>\n",
       "    <tr>\n",
       "      <th>3</th>\n",
       "      <td>0.060743</td>\n",
       "      <td>0.892425</td>\n",
       "      <td>0.927536</td>\n",
       "      <td>0.025040</td>\n",
       "      <td>0.958327</td>\n",
       "      <td>0.165080</td>\n",
       "      <td>0.877835</td>\n",
       "      <td>0.414409</td>\n",
       "      <td>1.0</td>\n",
       "      <td>0.307636</td>\n",
       "      <td>0.877835</td>\n",
       "      <td>0.414409</td>\n",
       "      <td>1.0</td>\n",
       "      <td>0.307636</td>\n",
       "    </tr>\n",
       "    <tr>\n",
       "      <th>4</th>\n",
       "      <td>0.402269</td>\n",
       "      <td>0.177327</td>\n",
       "      <td>0.129783</td>\n",
       "      <td>0.717905</td>\n",
       "      <td>0.967122</td>\n",
       "      <td>0.902433</td>\n",
       "      <td>0.680551</td>\n",
       "      <td>0.614172</td>\n",
       "      <td>1.0</td>\n",
       "      <td>0.141089</td>\n",
       "      <td>0.680551</td>\n",
       "      <td>0.614172</td>\n",
       "      <td>1.0</td>\n",
       "      <td>0.141089</td>\n",
       "    </tr>\n",
       "  </tbody>\n",
       "</table>\n",
       "</div>"
      ],
      "text/plain": [
       "          x         y         z   x_final   y_final   z_final     axis0  \\\n",
       "0  0.278313  0.197886  0.851578  0.969726  0.506244  0.644033  0.502076   \n",
       "1  0.944198  0.559738  0.110762  0.024289  0.167246  0.634488  0.096896   \n",
       "2  0.297302  0.102148  0.737356  0.230195  0.910314  0.646646  0.842563   \n",
       "3  0.060743  0.892425  0.927536  0.025040  0.958327  0.165080  0.877835   \n",
       "4  0.402269  0.177327  0.129783  0.717905  0.967122  0.902433  0.680551   \n",
       "\n",
       "      axis1  axis2     axis3  axis0_final  axis1_final  axis2_final  \\\n",
       "0  0.550090    1.0  0.194515     0.502076     0.550090          1.0   \n",
       "1  0.536949    1.0  0.205472     0.096896     0.536949          1.0   \n",
       "2  0.548592    1.0  0.195765     0.842563     0.548592          1.0   \n",
       "3  0.414409    1.0  0.307636     0.877835     0.414409          1.0   \n",
       "4  0.614172    1.0  0.141089     0.680551     0.614172          1.0   \n",
       "\n",
       "   axis3_final  \n",
       "0     0.194515  \n",
       "1     0.205472  \n",
       "2     0.195765  \n",
       "3     0.307636  \n",
       "4     0.141089  "
      ]
     },
     "execution_count": 2,
     "metadata": {},
     "output_type": "execute_result"
    }
   ],
   "source": [
    "from utils.train_data import sim_data_train\n",
    "import pandas as pd\n",
    "\n",
    "num_amostras = 5_000\n",
    "l1 = 0.1\n",
    "l2 = 0.124\n",
    "l3 = 0.06\n",
    "x_range = (-0.5, 0.5)\n",
    "y_range = (-0.5, 0.5)\n",
    "z_range = (-0.5, 0.5)\n",
    "normalize = True\n",
    "folds = 0\n",
    "\n",
    "entradas, saidas = sim_data_train(\n",
    "    num_amostras=num_amostras, \n",
    "    l1=l1, l2=l2, l3=l3, \n",
    "    x_range=x_range, y_range=y_range, z_range=z_range,\n",
    "    normalize=normalize, folds=folds\n",
    ")\n",
    "\n",
    "df = pd.DataFrame(entradas, columns=[\"x\", \"y\", \"z\", \"x_final\", \"y_final\", \"z_final\", \"axis0\", \"axis1\", \"axis2\", \"axis3\"])\n",
    "df[\"axis0_final\"] = saidas[:, 0]\n",
    "df[\"axis1_final\"] = saidas[:, 1]\n",
    "df[\"axis2_final\"] = saidas[:, 2]\n",
    "df[\"axis3_final\"] = saidas[:, 3]\n",
    "\n",
    "df.head()\n"
   ]
  },
  {
   "cell_type": "code",
   "execution_count": 4,
   "metadata": {},
   "outputs": [
    {
     "name": "stdout",
     "output_type": "stream",
     "text": [
      "Fitting 3 folds for each of 10 candidates, totalling 30 fits\n",
      "Erro quadrático médio (MSE): 5.3286332585228866e-05\n",
      "Erro absoluto médio (MAE): 0.005514262659779506\n"
     ]
    }
   ],
   "source": [
    "from sklearn.model_selection import RandomizedSearchCV\n",
    "from sklearn.metrics import mean_squared_error, mean_absolute_error\n",
    "from sklearn.preprocessing import MinMaxScaler\n",
    "from sklearn.model_selection import train_test_split\n",
    "from sklearn.neural_network import MLPRegressor\n",
    "\n",
    "# Dividindo os dados em treinamento e teste\n",
    "X_train, X_test, y_train, y_test = train_test_split(entradas, saidas, test_size=0.2, random_state=42)\n",
    "\n",
    "# Parâmetros do RandomizedSearchCV\n",
    "param_distributions = {\n",
    "    'hidden_layer_sizes': [(50,), (100,), (50, 50), (100, 100, 100), (50, 50, 50)],\n",
    "    'activation': ['relu', 'tanh'],\n",
    "    'solver': ['adam', 'sgd'],\n",
    "    'learning_rate': ['constant', 'adaptive'],\n",
    "    'max_iter': [500, 1000],\n",
    "    'alpha': [0.0001, 0.001, 0.01]\n",
    "}\n",
    "\n",
    "mlp = MLPRegressor(random_state=42)\n",
    "\n",
    "random_search = RandomizedSearchCV(\n",
    "    mlp, param_distributions, \n",
    "    n_iter=10, scoring='neg_mean_squared_error', \n",
    "    cv=3, verbose=2, random_state=42,\n",
    "    return_train_score=True, n_jobs=-1\n",
    ")\n",
    "\n",
    "random_search.fit(X_train, y_train)\n",
    "\n",
    "best_model = random_search.best_estimator_\n",
    "\n",
    "y_pred = best_model.predict(X_test)\n",
    "\n",
    "mse = mean_squared_error(y_test, y_pred)\n",
    "mae = mean_absolute_error(y_test, y_pred)\n",
    "\n",
    "print(\"Erro quadrático médio (MSE):\", mse)\n",
    "print(\"Erro absoluto médio (MAE):\", mae)"
   ]
  },
  {
   "cell_type": "code",
   "execution_count": 5,
   "metadata": {},
   "outputs": [
    {
     "data": {
      "image/png": "[encoded data removed]",
      "text/plain": [
       "<Figure size 1000x600 with 1 Axes>"
      ]
     },
     "metadata": {},
     "output_type": "display_data"
    },
    {
     "name": "stdout",
     "output_type": "stream",
     "text": [
      "Erro quadrático médio (MSE) com os melhores parâmetros: 5.3286332585228866e-05\n"
     ]
    }
   ],
   "source": [
    "import matplotlib.pyplot as plt\n",
    "\n",
    "train_errors = random_search.cv_results_['mean_train_score']\n",
    "test_errors = random_search.cv_results_['mean_test_score']\n",
    "\n",
    "plt.figure(figsize=(10, 6))\n",
    "plt.plot(train_errors, label='Erro de Treinamento', color='blue')\n",
    "plt.plot(test_errors, label='Erro de Teste', color='red')\n",
    "plt.xlabel('Número de Iterações')\n",
    "plt.ylabel('Erro Médio (MSE)')\n",
    "plt.title('Evolução do Erro Médio ao Longo do Treinamento')\n",
    "plt.legend()\n",
    "plt.grid(True)\n",
    "plt.show()\n",
    "\n",
    "y_pred = best_model.predict(X_test)\n",
    "mse = mean_squared_error(y_test, y_pred)\n",
    "print(\"Erro quadrático médio (MSE) com os melhores parâmetros:\", mse)"
   ]
  },
  {
   "cell_type": "code",
   "execution_count": 6,
   "metadata": {},
   "outputs": [
    {
     "name": "stdout",
     "output_type": "stream",
     "text": [
      "Modelo salvo com sucesso!\n"
     ]
    }
   ],
   "source": [
    "import pickle\n",
    "\n",
    "with open('models/mlp.pkl', 'wb') as file:\n",
    "    pickle.dump(best_model, file)\n",
    "\n",
    "print(\"Modelo salvo com sucesso!\")"
   ]
  }
 ],
 "metadata": {
  "kernelspec": {
   "display_name": ".auto",
   "language": "python",
   "name": "python3"
  },
  "language_info": {
   "codemirror_mode": {
    "name": "ipython",
    "version": 3
   },
   "file_extension": ".py",
   "mimetype": "text/x-python",
   "name": "python",
   "nbconvert_exporter": "python",
   "pygments_lexer": "ipython3",
   "version": "3.12.9"
  }
 },
 "nbformat": 4,
 "nbformat_minor": 2
}
